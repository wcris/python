{
 "cells": [
  {
   "cell_type": "markdown",
   "id": "7d00fd95",
   "metadata": {},
   "source": [
    "<h1>Proyecto Final</h1>"
   ]
  },
  {
   "cell_type": "markdown",
   "id": "d4a32435",
   "metadata": {},
   "source": [
    "Este notebook solo se usara para realizar el proyecto final del curso"
   ]
  },
  {
   "cell_type": "code",
   "execution_count": 1,
   "id": "e833b886",
   "metadata": {},
   "outputs": [],
   "source": [
    "import numpy as np\n",
    "import pandas as pd"
   ]
  },
  {
   "cell_type": "code",
   "execution_count": 2,
   "id": "7b861a57",
   "metadata": {},
   "outputs": [
    {
     "name": "stdout",
     "output_type": "stream",
     "text": [
      "¡Hola, Proyecto Final del Curso!\n"
     ]
    }
   ],
   "source": [
    "print(\"¡Hola, Proyecto Final del Curso!\")"
   ]
  }
 ],
 "metadata": {
  "kernelspec": {
   "display_name": "Python 3 (ipykernel)",
   "language": "python",
   "name": "python3"
  },
  "language_info": {
   "codemirror_mode": {
    "name": "ipython",
    "version": 3
   },
   "file_extension": ".py",
   "mimetype": "text/x-python",
   "name": "python",
   "nbconvert_exporter": "python",
   "pygments_lexer": "ipython3",
   "version": "3.10.9"
  }
 },
 "nbformat": 4,
 "nbformat_minor": 5
}
